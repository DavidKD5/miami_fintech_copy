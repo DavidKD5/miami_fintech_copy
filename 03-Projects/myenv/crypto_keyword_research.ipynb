{
 "cells": [
  {
   "cell_type": "code",
   "execution_count": 17,
   "id": "3a69641b-5e3f-4a20-953a-3f7359307f07",
   "metadata": {},
   "outputs": [
    {
     "name": "stderr",
     "output_type": "stream",
     "text": [
      "[nltk_data] Downloading package reuters to\n",
      "[nltk_data]     C:\\Users\\jdbet\\AppData\\Roaming\\nltk_data...\n",
      "[nltk_data]   Package reuters is already up-to-date!\n",
      "[nltk_data] Downloading package stopwords to\n",
      "[nltk_data]     C:\\Users\\jdbet\\AppData\\Roaming\\nltk_data...\n",
      "[nltk_data]   Package stopwords is already up-to-date!\n",
      "[nltk_data] Downloading package punkt to\n",
      "[nltk_data]     C:\\Users\\jdbet\\AppData\\Roaming\\nltk_data...\n",
      "[nltk_data]   Package punkt is already up-to-date!\n",
      "[nltk_data] Downloading package wordnet to\n",
      "[nltk_data]     C:\\Users\\jdbet\\AppData\\Roaming\\nltk_data...\n",
      "[nltk_data]   Package wordnet is already up-to-date!\n"
     ]
    },
    {
     "data": {
      "text/plain": [
       "True"
      ]
     },
     "execution_count": 17,
     "metadata": {},
     "output_type": "execute_result"
    }
   ],
   "source": [
    "import twint\n",
    "import nest_asyncio\n",
    "import pandas as pd\n",
    "from pathlib import Path\n",
    "nest_asyncio.apply()\n",
    "from nltk.corpus import reuters, stopwords\n",
    "from nltk.util import ngrams\n",
    "from nltk.tokenize import word_tokenize\n",
    "from nltk.stem import WordNetLemmatizer\n",
    "import re\n",
    "import nltk\n",
    "from collections import Counter\n",
    "nltk.download('reuters')\n",
    "nltk.download('stopwords')\n",
    "nltk.download('punkt')\n",
    "nltk.download('wordnet')"
   ]
  },
  {
   "cell_type": "code",
   "execution_count": 18,
   "id": "cde29a66-c869-45ab-8798-1a5110b3bead",
   "metadata": {},
   "outputs": [],
   "source": [
    "#Import List of Crypto Project's Twitter Handles From Txt File\n",
    "# opening the file in read mode\n",
    "my_file = open(\"twitter_list.txt\", \"r\")\n",
    "my_file2 = open(\"twitter_list2.txt\", \"r\")\n",
    "my_file3 = open(\"twitter_list3.txt\", \"r\")\n",
    "my_file4 = open(\"twitter_list4.txt\", \"r\")\n",
    "my_file5 = open('master_twitter_list.txt', 'r')\n",
    "# reading the file\n",
    "data = my_file.read()\n",
    "data2 = my_file2.read()\n",
    "data3 = my_file3.read()\n",
    "data4 = my_file4.read()\n",
    "data5 = my_file5.read()\n",
    "# replacing end splitting the text \n",
    "# when newline ('\\n') is seen.\n",
    "twitter_list = data.split(\"\\n\")\n",
    "twitter_list2 = data2.split(\"\\n\")\n",
    "twitter_list3 = data3.split(\"\\n\")\n",
    "twitter_list4 = data4.split(\"\\n\")\n",
    "\n"
   ]
  },
  {
   "cell_type": "code",
   "execution_count": 19,
   "id": "7cfdf58a-f2d0-426f-9f17-9dc7ba85210e",
   "metadata": {},
   "outputs": [],
   "source": [
    "#Get Rid of Empty Strings In A List\n",
    "twitter_usernames = list(filter(None,twitter_list))\n",
    "twitter_usernames2 = list(filter(None,twitter_list2))\n",
    "twitter_usernames3 = list(filter(None,twitter_list3))\n",
    "twitter_usernames4 = list(filter(None,twitter_list4))"
   ]
  },
  {
   "cell_type": "code",
   "execution_count": 20,
   "id": "327247f2-4245-45cc-9528-86b31a031fb3",
   "metadata": {},
   "outputs": [
    {
     "name": "stdout",
     "output_type": "stream",
     "text": [
      "[' devnet ', ' mainnet ', ' wallet ', ' sdk ', ' cross-chain ', ' bridge ', ' launch ', ' app ', ' testnet ', ' upgrade ', ' widget ', ' release ', ' gameplay ', ' fork ', ' staking ', ' phase ', ' integration ', ' partnership ', ' stakepool ', ' listing ', ' beta ', ' apps ', ' listings ', ' support  ', ' test ', ' validators ', ' update ', ' roadmap ']\n"
     ]
    }
   ],
   "source": [
    "#Import List of Keywords from Txt File\n",
    "my_file = open(\"keyword_list.txt\", \"r\")\n",
    "keyword_data = my_file.read()\n",
    "keyword_list = keyword_data.split(\"\\n\")\n",
    "print(keyword_list)"
   ]
  },
  {
   "cell_type": "code",
   "execution_count": 21,
   "id": "0ceee4a0-668c-4259-84dc-0e3ca0a7a1da",
   "metadata": {},
   "outputs": [],
   "source": [
    "#Create empty list to save tweets \n",
    "Twitter_df = []"
   ]
  },
  {
   "cell_type": "code",
   "execution_count": 22,
   "id": "c04e111e-b3be-43d8-a0b7-759a07fe092e",
   "metadata": {},
   "outputs": [],
   "source": [
    "#Function to scrape tweets for a project since the beginning of the year\n",
    "#def crypto_tweets(username):\n",
    "    #c = twint.Config()\n",
    "    #c.Username = username\n",
    "    #c.Since = \"2022-03-15\"\n",
    "    #c.Pandas = True\n",
    "    #twint.run.Search(c)"
   ]
  },
  {
   "cell_type": "code",
   "execution_count": 70,
   "id": "0359d4b0-4cd6-45fc-8a16-796efd003065",
   "metadata": {},
   "outputs": [],
   "source": [
    "#Loop Through All Twitter Usernames and Scrape Tweets\n",
    "#for crypto in twitter_usernames4:\n",
    "    #crypto_tweets(crypto)\n",
    "    #single_df = twint.storage.panda.Tweets_df\n",
    "    #Twitter_df.append(single_df)"
   ]
  },
  {
   "cell_type": "code",
   "execution_count": 32,
   "id": "bd2fdd26-9ee8-4997-9daf-970956380a51",
   "metadata": {},
   "outputs": [],
   "source": [
    "#Export Tweets to CSV For Future Use\n",
    "#all_tweets = pd.concat(Twitter_df)\n",
    "#all_tweets_csv = all_tweets.to_csv('tweets_mid_march.csv')"
   ]
  },
  {
   "cell_type": "code",
   "execution_count": 38,
   "id": "61ee3870-bb30-4859-8d0f-324d30a8d6af",
   "metadata": {},
   "outputs": [],
   "source": [
    "#Import Tweets from CSV File as DataFrames\n",
    "tweets_mid_march_df = pd.read_csv('tweets_mid_march.csv')\n"
   ]
  },
  {
   "cell_type": "code",
   "execution_count": 39,
   "id": "fabcb23d-80f2-4fea-bdc5-86701beadb63",
   "metadata": {},
   "outputs": [
    {
     "data": {
      "text/html": [
       "<div>\n",
       "<style scoped>\n",
       "    .dataframe tbody tr th:only-of-type {\n",
       "        vertical-align: middle;\n",
       "    }\n",
       "\n",
       "    .dataframe tbody tr th {\n",
       "        vertical-align: top;\n",
       "    }\n",
       "\n",
       "    .dataframe thead th {\n",
       "        text-align: right;\n",
       "    }\n",
       "</style>\n",
       "<table border=\"1\" class=\"dataframe\">\n",
       "  <thead>\n",
       "    <tr style=\"text-align: right;\">\n",
       "      <th></th>\n",
       "      <th>username</th>\n",
       "      <th>tweet</th>\n",
       "      <th>link</th>\n",
       "      <th>date</th>\n",
       "    </tr>\n",
       "  </thead>\n",
       "  <tbody>\n",
       "    <tr>\n",
       "      <th>0</th>\n",
       "      <td>_PIVX</td>\n",
       "      <td>$PIVX Rewards: 8.83%/0.5% Digital Cash/Physica...</td>\n",
       "      <td>https://twitter.com/_PIVX/status/1511703779938...</td>\n",
       "      <td>2022-04-06 07:54:01</td>\n",
       "    </tr>\n",
       "    <tr>\n",
       "      <th>1</th>\n",
       "      <td>_PIVX</td>\n",
       "      <td>@SmartCryptoNew1 Thank YOU! :)</td>\n",
       "      <td>https://twitter.com/_PIVX/status/1511367565213...</td>\n",
       "      <td>2022-04-05 09:38:02</td>\n",
       "    </tr>\n",
       "    <tr>\n",
       "      <th>2</th>\n",
       "      <td>_PIVX</td>\n",
       "      <td>\"PIVX is a DAO, Want to know how?\", is now ava...</td>\n",
       "      <td>https://twitter.com/_PIVX/status/1511329488025...</td>\n",
       "      <td>2022-04-05 07:06:43</td>\n",
       "    </tr>\n",
       "    <tr>\n",
       "      <th>3</th>\n",
       "      <td>_PIVX</td>\n",
       "      <td>@TheMoonCarl #DAO</td>\n",
       "      <td>https://twitter.com/_PIVX/status/1510992539758...</td>\n",
       "      <td>2022-04-04 08:47:49</td>\n",
       "    </tr>\n",
       "    <tr>\n",
       "      <th>4</th>\n",
       "      <td>_PIVX</td>\n",
       "      <td>@TheMoonCarl We're just going to continue to h...</td>\n",
       "      <td>https://twitter.com/_PIVX/status/1510638093111...</td>\n",
       "      <td>2022-04-03 09:19:22</td>\n",
       "    </tr>\n",
       "    <tr>\n",
       "      <th>...</th>\n",
       "      <td>...</td>\n",
       "      <td>...</td>\n",
       "      <td>...</td>\n",
       "      <td>...</td>\n",
       "    </tr>\n",
       "    <tr>\n",
       "      <th>14321</th>\n",
       "      <td>zkTubeOfficial</td>\n",
       "      <td>Follow up on our official Twitter And must joi...</td>\n",
       "      <td>https://twitter.com/zkTubeOfficial/status/1510...</td>\n",
       "      <td>2022-04-03 09:27:19</td>\n",
       "    </tr>\n",
       "    <tr>\n",
       "      <th>14322</th>\n",
       "      <td>zkTubeOfficial</td>\n",
       "      <td>After Rebranding #zktMeta is coming up with ma...</td>\n",
       "      <td>https://twitter.com/zkTubeOfficial/status/1510...</td>\n",
       "      <td>2022-04-03 09:25:38</td>\n",
       "    </tr>\n",
       "    <tr>\n",
       "      <th>14323</th>\n",
       "      <td>zkTubeOfficial</td>\n",
       "      <td>zktMeta is #rebranding and will goes with foll...</td>\n",
       "      <td>https://twitter.com/zkTubeOfficial/status/1510...</td>\n",
       "      <td>2022-04-02 07:43:12</td>\n",
       "    </tr>\n",
       "    <tr>\n",
       "      <th>14324</th>\n",
       "      <td>zkTubeOfficial</td>\n",
       "      <td>What a breakout from pivot level and falling w...</td>\n",
       "      <td>https://twitter.com/zkTubeOfficial/status/1506...</td>\n",
       "      <td>2022-03-23 11:53:07</td>\n",
       "    </tr>\n",
       "    <tr>\n",
       "      <th>14325</th>\n",
       "      <td>zkTubeOfficial</td>\n",
       "      <td>ZKTMETA（zkTube）is undergoing maintenance and u...</td>\n",
       "      <td>https://twitter.com/zkTubeOfficial/status/1505...</td>\n",
       "      <td>2022-03-21 05:28:16</td>\n",
       "    </tr>\n",
       "  </tbody>\n",
       "</table>\n",
       "<p>14326 rows × 4 columns</p>\n",
       "</div>"
      ],
      "text/plain": [
       "             username                                              tweet  \\\n",
       "0               _PIVX  $PIVX Rewards: 8.83%/0.5% Digital Cash/Physica...   \n",
       "1               _PIVX                     @SmartCryptoNew1 Thank YOU! :)   \n",
       "2               _PIVX  \"PIVX is a DAO, Want to know how?\", is now ava...   \n",
       "3               _PIVX                                  @TheMoonCarl #DAO   \n",
       "4               _PIVX  @TheMoonCarl We're just going to continue to h...   \n",
       "...               ...                                                ...   \n",
       "14321  zkTubeOfficial  Follow up on our official Twitter And must joi...   \n",
       "14322  zkTubeOfficial  After Rebranding #zktMeta is coming up with ma...   \n",
       "14323  zkTubeOfficial  zktMeta is #rebranding and will goes with foll...   \n",
       "14324  zkTubeOfficial  What a breakout from pivot level and falling w...   \n",
       "14325  zkTubeOfficial  ZKTMETA（zkTube）is undergoing maintenance and u...   \n",
       "\n",
       "                                                    link                 date  \n",
       "0      https://twitter.com/_PIVX/status/1511703779938...  2022-04-06 07:54:01  \n",
       "1      https://twitter.com/_PIVX/status/1511367565213...  2022-04-05 09:38:02  \n",
       "2      https://twitter.com/_PIVX/status/1511329488025...  2022-04-05 07:06:43  \n",
       "3      https://twitter.com/_PIVX/status/1510992539758...  2022-04-04 08:47:49  \n",
       "4      https://twitter.com/_PIVX/status/1510638093111...  2022-04-03 09:19:22  \n",
       "...                                                  ...                  ...  \n",
       "14321  https://twitter.com/zkTubeOfficial/status/1510...  2022-04-03 09:27:19  \n",
       "14322  https://twitter.com/zkTubeOfficial/status/1510...  2022-04-03 09:25:38  \n",
       "14323  https://twitter.com/zkTubeOfficial/status/1510...  2022-04-02 07:43:12  \n",
       "14324  https://twitter.com/zkTubeOfficial/status/1506...  2022-03-23 11:53:07  \n",
       "14325  https://twitter.com/zkTubeOfficial/status/1505...  2022-03-21 05:28:16  \n",
       "\n",
       "[14326 rows x 4 columns]"
      ]
     },
     "execution_count": 39,
     "metadata": {},
     "output_type": "execute_result"
    }
   ],
   "source": [
    "#Clean Dateframe to only keep needed columns\n",
    "all_tweets_strings = tweets_mid_march_df[['username','tweet','link', 'date']]\n",
    "all_tweets_strings.reset_index(inplace=True, drop=True)\n",
    "all_tweets_strings"
   ]
  },
  {
   "cell_type": "code",
   "execution_count": 40,
   "id": "1a38488c-c2a3-4fdd-a54a-2c802e641590",
   "metadata": {},
   "outputs": [
    {
     "data": {
      "text/html": [
       "<div>\n",
       "<style scoped>\n",
       "    .dataframe tbody tr th:only-of-type {\n",
       "        vertical-align: middle;\n",
       "    }\n",
       "\n",
       "    .dataframe tbody tr th {\n",
       "        vertical-align: top;\n",
       "    }\n",
       "\n",
       "    .dataframe thead th {\n",
       "        text-align: right;\n",
       "    }\n",
       "</style>\n",
       "<table border=\"1\" class=\"dataframe\">\n",
       "  <thead>\n",
       "    <tr style=\"text-align: right;\">\n",
       "      <th></th>\n",
       "      <th>username</th>\n",
       "      <th>tweet</th>\n",
       "      <th>link</th>\n",
       "      <th>date</th>\n",
       "    </tr>\n",
       "  </thead>\n",
       "  <tbody>\n",
       "    <tr>\n",
       "      <th>0</th>\n",
       "      <td>2crazylive</td>\n",
       "      <td>#2CRZ! We offer one of the best reward staking...</td>\n",
       "      <td>https://twitter.com/2crazylive/status/15120500...</td>\n",
       "      <td>2022-04-07 06:49:48</td>\n",
       "    </tr>\n",
       "    <tr>\n",
       "      <th>1</th>\n",
       "      <td>2crazylive</td>\n",
       "      <td>🆘2Crazy is doing something crazy🆘  Do you want...</td>\n",
       "      <td>https://twitter.com/2crazylive/status/15116518...</td>\n",
       "      <td>2022-04-06 04:27:30</td>\n",
       "    </tr>\n",
       "    <tr>\n",
       "      <th>2</th>\n",
       "      <td>2crazylive</td>\n",
       "      <td>For those that missed it. Our staking platform...</td>\n",
       "      <td>https://twitter.com/2crazylive/status/15112463...</td>\n",
       "      <td>2022-04-05 01:36:33</td>\n",
       "    </tr>\n",
       "    <tr>\n",
       "      <th>3</th>\n",
       "      <td>2crazylive</td>\n",
       "      <td>Our staking platform is now live. Head over to...</td>\n",
       "      <td>https://twitter.com/2crazylive/status/15109805...</td>\n",
       "      <td>2022-04-04 08:00:02</td>\n",
       "    </tr>\n",
       "    <tr>\n",
       "      <th>4</th>\n",
       "      <td>2crazylive</td>\n",
       "      <td>The time is nearly upon us. Get your $2CRZ tok...</td>\n",
       "      <td>https://twitter.com/2crazylive/status/15109654...</td>\n",
       "      <td>2022-04-04 07:00:01</td>\n",
       "    </tr>\n",
       "    <tr>\n",
       "      <th>...</th>\n",
       "      <td>...</td>\n",
       "      <td>...</td>\n",
       "      <td>...</td>\n",
       "      <td>...</td>\n",
       "    </tr>\n",
       "    <tr>\n",
       "      <th>1510</th>\n",
       "      <td>YOPfi</td>\n",
       "      <td>It is Here! Your guide to YOP Vaults, Staking ...</td>\n",
       "      <td>https://twitter.com/YOPfi/status/1508448877300...</td>\n",
       "      <td>2022-03-28 08:20:12</td>\n",
       "    </tr>\n",
       "    <tr>\n",
       "      <th>1511</th>\n",
       "      <td>yourCashaa</td>\n",
       "      <td>Unlike banks, we are using our connections to ...</td>\n",
       "      <td>https://twitter.com/yourCashaa/status/15043975...</td>\n",
       "      <td>2022-03-17 04:01:35</td>\n",
       "    </tr>\n",
       "    <tr>\n",
       "      <th>1512</th>\n",
       "      <td>ZeroSwapLabs</td>\n",
       "      <td>🥳 We are glad to announce the distribution of ...</td>\n",
       "      <td>https://twitter.com/ZeroSwapLabs/status/150515...</td>\n",
       "      <td>2022-03-19 06:28:32</td>\n",
       "    </tr>\n",
       "    <tr>\n",
       "      <th>1513</th>\n",
       "      <td>zkTubeOfficial</td>\n",
       "      <td>#PayTube wallet will be upgraded on or before ...</td>\n",
       "      <td>https://twitter.com/zkTubeOfficial/status/1510...</td>\n",
       "      <td>2022-04-04 02:26:36</td>\n",
       "    </tr>\n",
       "    <tr>\n",
       "      <th>1514</th>\n",
       "      <td>zkTubeOfficial</td>\n",
       "      <td>ZKTMETA（zkTube）is undergoing maintenance and u...</td>\n",
       "      <td>https://twitter.com/zkTubeOfficial/status/1505...</td>\n",
       "      <td>2022-03-21 05:28:16</td>\n",
       "    </tr>\n",
       "  </tbody>\n",
       "</table>\n",
       "<p>1515 rows × 4 columns</p>\n",
       "</div>"
      ],
      "text/plain": [
       "            username                                              tweet  \\\n",
       "0         2crazylive  #2CRZ! We offer one of the best reward staking...   \n",
       "1         2crazylive  🆘2Crazy is doing something crazy🆘  Do you want...   \n",
       "2         2crazylive  For those that missed it. Our staking platform...   \n",
       "3         2crazylive  Our staking platform is now live. Head over to...   \n",
       "4         2crazylive  The time is nearly upon us. Get your $2CRZ tok...   \n",
       "...              ...                                                ...   \n",
       "1510           YOPfi  It is Here! Your guide to YOP Vaults, Staking ...   \n",
       "1511      yourCashaa  Unlike banks, we are using our connections to ...   \n",
       "1512    ZeroSwapLabs  🥳 We are glad to announce the distribution of ...   \n",
       "1513  zkTubeOfficial  #PayTube wallet will be upgraded on or before ...   \n",
       "1514  zkTubeOfficial  ZKTMETA（zkTube）is undergoing maintenance and u...   \n",
       "\n",
       "                                                   link                 date  \n",
       "0     https://twitter.com/2crazylive/status/15120500...  2022-04-07 06:49:48  \n",
       "1     https://twitter.com/2crazylive/status/15116518...  2022-04-06 04:27:30  \n",
       "2     https://twitter.com/2crazylive/status/15112463...  2022-04-05 01:36:33  \n",
       "3     https://twitter.com/2crazylive/status/15109805...  2022-04-04 08:00:02  \n",
       "4     https://twitter.com/2crazylive/status/15109654...  2022-04-04 07:00:01  \n",
       "...                                                 ...                  ...  \n",
       "1510  https://twitter.com/YOPfi/status/1508448877300...  2022-03-28 08:20:12  \n",
       "1511  https://twitter.com/yourCashaa/status/15043975...  2022-03-17 04:01:35  \n",
       "1512  https://twitter.com/ZeroSwapLabs/status/150515...  2022-03-19 06:28:32  \n",
       "1513  https://twitter.com/zkTubeOfficial/status/1510...  2022-04-04 02:26:36  \n",
       "1514  https://twitter.com/zkTubeOfficial/status/1505...  2022-03-21 05:28:16  \n",
       "\n",
       "[1515 rows x 4 columns]"
      ]
     },
     "execution_count": 40,
     "metadata": {},
     "output_type": "execute_result"
    }
   ],
   "source": [
    "#Filter dataframe using keyword list\n",
    "all_tweets_strings_cleaned = all_tweets_strings[all_tweets_strings['tweet'].str.contains('|'.join(keyword_list),regex=True)]\n",
    "all_tweets_strings_cleaned.reset_index(inplace=True, drop=True)\n",
    "all_tweets_strings_cleaned"
   ]
  },
  {
   "cell_type": "code",
   "execution_count": null,
   "id": "c26b179d-435c-4d9a-ac47-3a5c45b1db06",
   "metadata": {},
   "outputs": [],
   "source": [
    "#Combine all tweeets into one large string for processing\n",
    "tweets_string = ' '.join(all_tweets_strings_cleaned['tweet'].tolist())\n"
   ]
  },
  {
   "cell_type": "code",
   "execution_count": null,
   "id": "a34dd0c8-6745-4caa-9a81-5f383422317b",
   "metadata": {},
   "outputs": [],
   "source": [
    "#Create function to process text to tokenize and remove stopwords\n",
    "lemmatizer = WordNetLemmatizer()\n",
    "def process_text(doc):\n",
    "    sw = set(stopwords.words('english'))\n",
    "    regex = re.compile(\"[^a-zA-Z ]\")\n",
    "    re_clean = regex.sub('', tweets_string)\n",
    "    words = word_tokenize(re_clean)\n",
    "    lem = [lemmatizer.lemmatize(word) for word in words]\n",
    "    output = [word.lower() for word in lem if word.lower() not in sw]\n",
    "    return output"
   ]
  },
  {
   "cell_type": "code",
   "execution_count": null,
   "id": "107bcfd7-1397-497a-aa36-1aa3673add1e",
   "metadata": {},
   "outputs": [],
   "source": [
    "#Implement the function to tokenize text\n",
    "processed = process_text(tweets_string)\n",
    "dict(Counter(processed).most_common(20))"
   ]
  },
  {
   "cell_type": "code",
   "execution_count": null,
   "id": "0e9fb9ee-69cc-429e-8d04-f7f867ee64d7",
   "metadata": {},
   "outputs": [],
   "source": [
    "#Create bigrams\n",
    "bigram_counts = ngrams(processed, n=2)\n",
    "bigram_list = list(bigram_counts)\n",
    "bigram_df = pd.DataFrame (bigram_list, columns = ['word_1', 'word_2'])\n",
    "bigram_df"
   ]
  },
  {
   "cell_type": "code",
   "execution_count": null,
   "id": "c6a655a6-8512-4bd0-acf7-9286ac6c13ef",
   "metadata": {},
   "outputs": [],
   "source": [
    "#Import List of Keywords from Txt File\n",
    "my_file = open(\"keyword_strings.txt\", \"r\")\n",
    "keyword_data1 = my_file.read()\n",
    "keyword_strings = keyword_data1.split(\"\\n\")"
   ]
  },
  {
   "cell_type": "code",
   "execution_count": null,
   "id": "2e3bbac2-084a-4ba7-8440-55bc27bced28",
   "metadata": {},
   "outputs": [],
   "source": [
    "#Clean the bigram list by only keeping bigrams that include words from the keyword list\n",
    "bigram_df_cleaned = bigram_df[bigram_df['word_1'].str.contains('|'.join(keyword_strings),regex=True)]\n",
    "bigram_df_cleaned.reset_index(inplace=True, drop=True)\n",
    "bigram_df_cleaned"
   ]
  },
  {
   "cell_type": "code",
   "execution_count": null,
   "id": "e6f703e2-c115-4c0e-b581-f50bea5b4505",
   "metadata": {},
   "outputs": [],
   "source": [
    "#Save bigram list to csv\n",
    "#bigram_df_cleaned.to_csv('ngram_df_cleaned.csv')"
   ]
  },
  {
   "cell_type": "code",
   "execution_count": null,
   "id": "179c46b3-df2c-46bc-b685-30001b98b30e",
   "metadata": {},
   "outputs": [],
   "source": [
    "#Count the bigrams and sort them by most common\n",
    "def bigram_counter(corpus): \n",
    "    # Combine all articles in corpus into one large string\n",
    "    big_string = ' '.join(corpus)\n",
    "    processed = process_text(big_string)\n",
    "    bigrams = ngrams(processed, n=2)\n",
    "    top_10 = dict(Counter(bigrams).most_common(500))\n",
    "    return pd.DataFrame(list(top_10.items()), columns=['bigram', 'count'])"
   ]
  },
  {
   "cell_type": "code",
   "execution_count": null,
   "id": "fb8f466a-39a9-4627-81f3-5bf5d93ef83f",
   "metadata": {},
   "outputs": [],
   "source": [
    "bigram_counter(bigram_df_cleaned).head(10)#.to_csv('most_common_bigrams.csv')"
   ]
  },
  {
   "cell_type": "code",
   "execution_count": 42,
   "id": "edd65261-e526-42c3-b3e8-4a1115c65a28",
   "metadata": {},
   "outputs": [
    {
     "data": {
      "text/plain": [
       "65"
      ]
     },
     "execution_count": 42,
     "metadata": {},
     "output_type": "execute_result"
    }
   ],
   "source": [
    "#Import List of Keywords from Txt File\n",
    "my_file = open(\"final_list.txt\", \"r\")\n",
    "final_list_data = my_file.read()\n",
    "final_list = final_list_data.split(\"\\n\")\n",
    "len(final_list)"
   ]
  },
  {
   "cell_type": "code",
   "execution_count": 69,
   "id": "8fdc0b32-1a95-4f46-b845-2c69a2e19411",
   "metadata": {},
   "outputs": [],
   "source": [
    "all_tweets_strings_cleaned_final = all_tweets_strings[all_tweets_strings['tweet'].str.contains('|'.join(final_list),regex=True)]\n",
    "all_tweets_strings_cleaned_final.reset_index(inplace=True, drop=True)\n",
    "all_tweets_strings_cleaned_final.to_csv('research_tweets.csv')"
   ]
  },
  {
   "cell_type": "code",
   "execution_count": 44,
   "id": "637c2a05-f884-4070-a82f-d28ad51f9dcf",
   "metadata": {},
   "outputs": [
    {
     "data": {
      "text/plain": [
       "nftbmarket         22\n",
       "ClearpoolFin       12\n",
       "eqifi_finance      12\n",
       "GlitchProtocol     11\n",
       "losslessdefi       10\n",
       "opulousapp          9\n",
       "HavenXHV            8\n",
       "polkadex            7\n",
       "PhantasmaChain      7\n",
       "PersistenceOne      6\n",
       "apenftorg           6\n",
       "standardweb3        6\n",
       "HelloTelos          6\n",
       "MoonriverNW         6\n",
       "souniio             5\n",
       "ShareRingGlobal     5\n",
       "HelloLumerin        5\n",
       "curateproject       5\n",
       "CUDOS_              5\n",
       "SeedifyFund         5\n",
       "H3RO3SCOIN          5\n",
       "shopping_io         5\n",
       "allianceblock       5\n",
       "centrifuge          4\n",
       "presearchnews       4\n",
       "AstarNetwork        4\n",
       "polkastarter        4\n",
       "wmtoken             4\n",
       "NervosNetwork       4\n",
       "BigTownChef         4\n",
       "LovelaceWorld       4\n",
       "FerrumNetwork       4\n",
       "BosonProtocol       4\n",
       "InfiniteLaunch      4\n",
       "MojitoSwap          4\n",
       "routerprotocol      4\n",
       "Meter_IO            4\n",
       "oddz_finance        3\n",
       "firestarter_fi      3\n",
       "orbs_network        3\n",
       "SpaceFalconIO       3\n",
       "GamerHashCom        3\n",
       "goodgamesguild      3\n",
       "KonomiNetwork       3\n",
       "MXCfoundation       3\n",
       "KaruraNetwork       3\n",
       "JUP_Project         3\n",
       "humansdotai         3\n",
       "NakamotoGames       3\n",
       "PhalaNetwork        3\n",
       "BreederDodo         3\n",
       "DIAdata_org         3\n",
       "cerenetwork         3\n",
       "thewastedlands      3\n",
       "biconomy            3\n",
       "deesse_2021         3\n",
       "RunOnFlux           2\n",
       "kollect_cards       2\n",
       "KomodoPlatform      2\n",
       "LaunchPoolXYZ       2\n",
       "Name: username, dtype: int64"
      ]
     },
     "execution_count": 44,
     "metadata": {},
     "output_type": "execute_result"
    }
   ],
   "source": [
    "all_tweets_strings_cleaned_final[\"username\"].value_counts().head(60)"
   ]
  },
  {
   "cell_type": "code",
   "execution_count": null,
   "id": "f938e9fe-093e-4a1f-a494-a34763991a57",
   "metadata": {},
   "outputs": [],
   "source": [
    "#all_tweets_strings_cleaned_final.to_csv('crypto_twitter_news.csv')"
   ]
  },
  {
   "cell_type": "code",
   "execution_count": 46,
   "id": "6d4e7dd0-4118-4002-aaf0-7af66d4f2111",
   "metadata": {},
   "outputs": [],
   "source": [
    "def get_crypto(crypto):\n",
    "    coin = all_tweets_strings_cleaned_final[all_tweets_strings_cleaned_final['username'].str.contains(crypto)]\n",
    "    coin.reset_index(inplace=True, drop=True)\n",
    "    return coin"
   ]
  },
  {
   "cell_type": "code",
   "execution_count": 68,
   "id": "b95b5731-e2be-496c-b0d5-c4116fc98ec0",
   "metadata": {},
   "outputs": [],
   "source": [
    "get_crypto('DIAdata_org').to_csv(\"research_tweets.csv\")"
   ]
  },
  {
   "cell_type": "code",
   "execution_count": null,
   "id": "65abab9f-f6df-4938-aac6-f82e0ddee05d",
   "metadata": {},
   "outputs": [],
   "source": []
  }
 ],
 "metadata": {
  "kernelspec": {
   "display_name": "Python 3 (ipykernel)",
   "language": "python",
   "name": "python3"
  },
  "language_info": {
   "codemirror_mode": {
    "name": "ipython",
    "version": 3
   },
   "file_extension": ".py",
   "mimetype": "text/x-python",
   "name": "python",
   "nbconvert_exporter": "python",
   "pygments_lexer": "ipython3",
   "version": "3.8.12"
  }
 },
 "nbformat": 4,
 "nbformat_minor": 5
}
